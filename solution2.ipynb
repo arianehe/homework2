{
 "metadata": {
  "language_info": {
   "codemirror_mode": {
    "name": "ipython",
    "version": 3
   },
   "file_extension": ".py",
   "mimetype": "text/x-python",
   "name": "python",
   "nbconvert_exporter": "python",
   "pygments_lexer": "ipython3",
   "version": "3.8.5-final"
  },
  "orig_nbformat": 2,
  "kernelspec": {
   "name": "python_defaultSpec_1600176606075",
   "display_name": "Python 3.8.5 64-bit"
  }
 },
 "nbformat": 4,
 "nbformat_minor": 2,
 "cells": [
  {
   "cell_type": "markdown",
   "metadata": {},
   "source": [
    "# Solutions"
   ]
  },
  {
   "cell_type": "markdown",
   "metadata": {},
   "source": [
    "## Solution 1"
   ]
  },
  {
   "cell_type": "code",
   "execution_count": 32,
   "metadata": {
    "tags": []
   },
   "outputs": [
    {
     "output_type": "stream",
     "name": "stdout",
     "text": "Number              Square                Cube\n                   0                   0                   0\n                   1                   1                   1\n                   2                   4                   8\n                   3                   9                  27\n                   4                  16                  64\n                   5                  25                 125\n"
    }
   ],
   "source": [
    "print(f\"{'Number': >20}{'Square': >20}{'Cube': >20}\")\n",
    "print(f'{0: >20}{0**2: >20}{0**3: >20}')\n",
    "print(f'{1: >20}{1**2: >20}{1**3: >20}')\n",
    "print(f'{2: >20}{2**2: >20}{2**3: >20}')\n",
    "print(f'{3: >20}{3**2: >20}{3**3: >20}')\n",
    "print(f'{4: >20}{4**2: >20}{4**3: >20}')\n",
    "print(f'{5: >20}{5**2: >20}{5**3: >20}')\n"
   ]
  },
  {
   "cell_type": "markdown",
   "metadata": {},
   "source": [
    "## Solution 2"
   ]
  },
  {
   "cell_type": "code",
   "execution_count": 10,
   "metadata": {
    "tags": []
   },
   "outputs": [
    {
     "output_type": "stream",
     "name": "stdout",
     "text": "9.777777777777779\n"
    }
   ],
   "source": [
    "Celsius_temperature = float(input('enter the Celsius temperature'))\n",
    "Fahrenheit_temperature = 5 / 9 * Celsius_temperature  + 32\n",
    "print(Fahrenheit_temperature)"
   ]
  },
  {
   "cell_type": "code",
   "execution_count": 11,
   "metadata": {
    "tags": []
   },
   "outputs": [
    {
     "output_type": "stream",
     "name": "stdout",
     "text": "32.0\n"
    }
   ],
   "source": [
    "Celsius_temperature = float(input('enter the Celsius temperature'))\n",
    "Fahrenheit_temperature = 5 / 9 * Celsius_temperature  + 32\n",
    "print(Fahrenheit_temperature)"
   ]
  },
  {
   "cell_type": "code",
   "execution_count": 12,
   "metadata": {
    "tags": []
   },
   "outputs": [
    {
     "output_type": "stream",
     "name": "stdout",
     "text": "54.22222222222222\n"
    }
   ],
   "source": [
    "Celsius_temperature = float(input('enter the Celsius temperature'))\n",
    "Fahrenheit_temperature = 5 / 9 * Celsius_temperature  + 32\n",
    "print(Fahrenheit_temperature)"
   ]
  },
  {
   "cell_type": "code",
   "execution_count": 13,
   "metadata": {
    "tags": []
   },
   "outputs": [
    {
     "output_type": "stream",
     "name": "stdout",
     "text": "87.55555555555556\n"
    }
   ],
   "source": [
    "Celsius_temperature = float(input('enter the Celsius temperature'))\n",
    "Fahrenheit_temperature = 5 / 9 * Celsius_temperature  + 32\n",
    "print(Fahrenheit_temperature)"
   ]
  },
  {
   "cell_type": "markdown",
   "metadata": {},
   "source": [
    "## Solution 3"
   ]
  },
  {
   "cell_type": "code",
   "execution_count": 30,
   "metadata": {
    "tags": []
   },
   "outputs": [
    {
     "output_type": "stream",
     "name": "stdout",
     "text": "The sum is  7,000.\nThe average is  2,333.33.\n"
    }
   ],
   "source": [
    "user_input_1 = int(input('Please input the first value: '))\n",
    "user_input_2 = int(input('Please input the second value: '))\n",
    "user_input_3 = int(input('Please input the third value: '))\n",
    "\n",
    "sum = user_input_1 + user_input_2 + user_input_3\n",
    "avg = sum / 3\n",
    "\n",
    "print(f'The sum is {sum: ,d}.')\n",
    "\n",
    "print(f'The average is {avg: ,.2f}.')"
   ]
  }
 ]
}